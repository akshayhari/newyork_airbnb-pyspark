{
 "cells": [
  {
   "cell_type": "code",
   "execution_count": 117,
   "metadata": {},
   "outputs": [],
   "source": [
    "from pyspark.sql import SparkSession\n",
    "from pyspark.ml.feature import VectorAssembler, StringIndexer"
   ]
  },
  {
   "cell_type": "code",
   "execution_count": 118,
   "metadata": {},
   "outputs": [
    {
     "name": "stdout",
     "output_type": "stream",
     "text": [
      "+----+--------------------+-------+---------+-------------------+-------------+--------+---------+---------------+-----+--------------+-----------------+-----------+-----------------+------------------------------+----------------+\n",
      "|  id|                name|host_id|host_name|neighbourhood_group|neighbourhood|latitude|longitude|      room_type|price|minimum_nights|number_of_reviews|last_review|reviews_per_month|calculated_host_listings_count|availability_365|\n",
      "+----+--------------------+-------+---------+-------------------+-------------+--------+---------+---------------+-----+--------------+-----------------+-----------+-----------------+------------------------------+----------------+\n",
      "|2539|Clean & quiet apt...|   2787|     John|           Brooklyn|   Kensington|40.64749|-73.97237|   Private room|  149|             1|                9| 2018-10-19|             0.21|                             6|             365|\n",
      "|2595|Skylit Midtown Ca...|   2845| Jennifer|          Manhattan|      Midtown|40.75362|-73.98377|Entire home/apt|  225|             1|               45| 2019-05-21|             0.38|                             2|             355|\n",
      "|3647|THE VILLAGE OF HA...|   4632|Elisabeth|          Manhattan|       Harlem|40.80902| -73.9419|   Private room|  150|             3|                0|       null|             null|                             1|             365|\n",
      "+----+--------------------+-------+---------+-------------------+-------------+--------+---------+---------------+-----+--------------+-----------------+-----------+-----------------+------------------------------+----------------+\n",
      "only showing top 3 rows\n",
      "\n"
     ]
    }
   ],
   "source": [
    "sc = SparkSession.builder.appName(\"sql_ex1\").getOrCreate()\n",
    "df = sc.read.csv(\"file:///home/hduser/programs/dataset/airbnb.csv\", header=True)\n",
    "df.show(3)"
   ]
  },
  {
   "cell_type": "code",
   "execution_count": 119,
   "metadata": {},
   "outputs": [
    {
     "data": {
      "text/plain": [
       "[('id', 'string'),\n",
       " ('name', 'string'),\n",
       " ('host_id', 'string'),\n",
       " ('host_name', 'string'),\n",
       " ('neighbourhood_group', 'string'),\n",
       " ('neighbourhood', 'string'),\n",
       " ('latitude', 'string'),\n",
       " ('longitude', 'string'),\n",
       " ('room_type', 'string'),\n",
       " ('price', 'string'),\n",
       " ('minimum_nights', 'string'),\n",
       " ('number_of_reviews', 'string'),\n",
       " ('last_review', 'string'),\n",
       " ('reviews_per_month', 'string'),\n",
       " ('calculated_host_listings_count', 'string'),\n",
       " ('availability_365', 'string')]"
      ]
     },
     "execution_count": 119,
     "metadata": {},
     "output_type": "execute_result"
    }
   ],
   "source": [
    "df.dtypes"
   ]
  },
  {
   "cell_type": "markdown",
   "metadata": {},
   "source": [
    "## Selecting only relevant columns"
   ]
  },
  {
   "cell_type": "code",
   "execution_count": 120,
   "metadata": {},
   "outputs": [],
   "source": [
    "df2 = df.select('neighbourhood_group', 'neighbourhood', 'room_type', 'price', \\\n",
    "               'minimum_nights','number_of_reviews', 'reviews_per_month', \\\n",
    "               'calculated_host_listings_count', 'availability_365', 'latitude', 'longitude')"
   ]
  },
  {
   "cell_type": "markdown",
   "metadata": {},
   "source": [
    "## Typecasting all strings to integers and floats"
   ]
  },
  {
   "cell_type": "code",
   "execution_count": 121,
   "metadata": {},
   "outputs": [],
   "source": [
    "from pyspark.sql.types import FloatType, IntegerType\n",
    "df2 = df2.withColumn(\"price\", df2[\"price\"].cast(IntegerType()))\n",
    "df2 = df2.withColumn(\"minimum_nights\", df2[\"minimum_nights\"].cast(IntegerType()))\n",
    "df2 = df2.withColumn(\"number_of_reviews\", df2[\"number_of_reviews\"].cast(IntegerType()))\n",
    "df2 = df2.withColumn(\"reviews_per_month\", df2[\"reviews_per_month\"].cast(FloatType()))\n",
    "df2 = df2.withColumn(\"calculated_host_listings_count\", df2[\"calculated_host_listings_count\"].cast(IntegerType()))\n",
    "df2 = df2.withColumn(\"availability_365\", df2[\"availability_365\"].cast(IntegerType()))\n",
    "df2 = df2.withColumn(\"latitude\", df2[\"latitude\"].cast(FloatType()))\n",
    "df2 = df2.withColumn(\"longitude\", df2[\"longitude\"].cast(FloatType()))"
   ]
  },
  {
   "cell_type": "markdown",
   "metadata": {},
   "source": [
    "## Replacing null values by 0 for reviews_per_month"
   ]
  },
  {
   "cell_type": "code",
   "execution_count": 122,
   "metadata": {},
   "outputs": [
    {
     "name": "stdout",
     "output_type": "stream",
     "text": [
      "+-------------------+-------------+---------------+-----+--------------+-----------------+-----------------+------------------------------+----------------+--------+---------+\n",
      "|neighbourhood_group|neighbourhood|      room_type|price|minimum_nights|number_of_reviews|reviews_per_month|calculated_host_listings_count|availability_365|latitude|longitude|\n",
      "+-------------------+-------------+---------------+-----+--------------+-----------------+-----------------+------------------------------+----------------+--------+---------+\n",
      "|           Brooklyn|   Kensington|   Private room|  149|             1|                9|             0.21|                             6|             365|40.64749|-73.97237|\n",
      "|          Manhattan|      Midtown|Entire home/apt|  225|             1|               45|             0.38|                             2|             355|40.75362|-73.98377|\n",
      "|          Manhattan|       Harlem|   Private room|  150|             3|                0|              0.0|                             1|             365|40.80902| -73.9419|\n",
      "+-------------------+-------------+---------------+-----+--------------+-----------------+-----------------+------------------------------+----------------+--------+---------+\n",
      "only showing top 3 rows\n",
      "\n"
     ]
    }
   ],
   "source": [
    "df2.na.fill(value=0,subset=[\"reviews_per_month\"]).show(3)"
   ]
  },
  {
   "cell_type": "code",
   "execution_count": 123,
   "metadata": {},
   "outputs": [
    {
     "data": {
      "text/plain": [
       "[('neighbourhood_group', 'string'),\n",
       " ('neighbourhood', 'string'),\n",
       " ('room_type', 'string'),\n",
       " ('price', 'int'),\n",
       " ('minimum_nights', 'int'),\n",
       " ('number_of_reviews', 'int'),\n",
       " ('reviews_per_month', 'float'),\n",
       " ('calculated_host_listings_count', 'int'),\n",
       " ('availability_365', 'int'),\n",
       " ('latitude', 'float'),\n",
       " ('longitude', 'float')]"
      ]
     },
     "execution_count": 123,
     "metadata": {},
     "output_type": "execute_result"
    }
   ],
   "source": [
    "df2.dtypes"
   ]
  },
  {
   "cell_type": "code",
   "execution_count": 124,
   "metadata": {},
   "outputs": [],
   "source": [
    "df2 = df2.na.drop(how=\"any\")"
   ]
  },
  {
   "cell_type": "markdown",
   "metadata": {},
   "source": [
    "## Removing Outliers i.e. price > 250"
   ]
  },
  {
   "cell_type": "code",
   "execution_count": 125,
   "metadata": {},
   "outputs": [],
   "source": [
    "df2 = df2.filter(df2.price<=250)"
   ]
  },
  {
   "cell_type": "markdown",
   "metadata": {},
   "source": [
    "## Encoding neighbourhood and roomtype column"
   ]
  },
  {
   "cell_type": "code",
   "execution_count": 126,
   "metadata": {},
   "outputs": [
    {
     "name": "stdout",
     "output_type": "stream",
     "text": [
      "+-------------------+-------------+---------------+-----+--------------+-----------------+-----------------+------------------------------+----------------+--------+---------+---+----+---+-------------+----------------+-------------+\n",
      "|neighbourhood_group|neighbourhood|      room_type|price|minimum_nights|number_of_reviews|reviews_per_month|calculated_host_listings_count|availability_365|latitude|longitude|ng1|  n1|rt1|          ngv|              nv|          rtv|\n",
      "+-------------------+-------------+---------------+-----+--------------+-----------------+-----------------+------------------------------+----------------+--------+---------+---+----+---+-------------+----------------+-------------+\n",
      "|           Brooklyn|   Kensington|   Private room|  149|             1|                9|             0.21|                             6|             365|40.64749|-73.97237|0.0|49.0|0.0|(4,[0],[1.0])|(217,[49],[1.0])|(2,[0],[1.0])|\n",
      "|          Manhattan|      Midtown|Entire home/apt|  225|             1|               45|             0.38|                             2|             355|40.75362|-73.98377|1.0|13.0|1.0|(4,[1],[1.0])|(217,[13],[1.0])|(2,[1],[1.0])|\n",
      "|           Brooklyn| Clinton Hill|Entire home/apt|   89|             1|              270|             4.64|                             1|             194|40.68514|-73.95976|0.0|19.0|1.0|(4,[0],[1.0])|(217,[19],[1.0])|(2,[1],[1.0])|\n",
      "|          Manhattan|  East Harlem|Entire home/apt|   80|            10|                9|              0.1|                             1|               0|40.79851|-73.94399|1.0| 9.0|1.0|(4,[1],[1.0])| (217,[9],[1.0])|(2,[1],[1.0])|\n",
      "|          Manhattan|  Murray Hill|Entire home/apt|  200|             3|               74|             0.59|                             1|             129|40.74767|  -73.975|1.0|33.0|1.0|(4,[1],[1.0])|(217,[33],[1.0])|(2,[1],[1.0])|\n",
      "+-------------------+-------------+---------------+-----+--------------+-----------------+-----------------+------------------------------+----------------+--------+---------+---+----+---+-------------+----------------+-------------+\n",
      "only showing top 5 rows\n",
      "\n"
     ]
    }
   ],
   "source": [
    "from pyspark.ml import Pipeline\n",
    "from pyspark.ml.feature import OneHotEncoder\n",
    "ng_indexer = StringIndexer(inputCol=\"neighbourhood_group\", outputCol=\"ng1\")\n",
    "n_indexer = StringIndexer(inputCol=\"neighbourhood\", outputCol=\"n1\")\n",
    "rt_indexer = StringIndexer(inputCol=\"room_type\", outputCol=\"rt1\")\n",
    "ng_onehot = OneHotEncoder(inputCol=\"ng1\", outputCol=\"ngv\")\n",
    "n_onehot = OneHotEncoder(inputCol=\"n1\", outputCol=\"nv\")\n",
    "rt_onehot = OneHotEncoder(inputCol=\"rt1\", outputCol=\"rtv\")\n",
    "\n",
    "pipeline = Pipeline(stages=[ng_indexer, n_indexer, rt_indexer, \\\n",
    "                            ng_onehot, n_onehot, rt_onehot])\n",
    "df3 = pipeline.fit(df2).transform(df2)\n",
    "df3.show(5)"
   ]
  },
  {
   "cell_type": "code",
   "execution_count": 127,
   "metadata": {},
   "outputs": [
    {
     "name": "stdout",
     "output_type": "stream",
     "text": [
      "+-------------------+-------------+---------------+-----+--------------+-----------------+-----------------+------------------------------+----------------+--------+---------+---+----+---+-------------+----------------+-------------+\n",
      "|neighbourhood_group|neighbourhood|      room_type|price|minimum_nights|number_of_reviews|reviews_per_month|calculated_host_listings_count|availability_365|latitude|longitude|ng1|  n1|rt1|          ngv|              nv|          rtv|\n",
      "+-------------------+-------------+---------------+-----+--------------+-----------------+-----------------+------------------------------+----------------+--------+---------+---+----+---+-------------+----------------+-------------+\n",
      "|           Brooklyn|   Kensington|   Private room|  149|             1|                9|             0.21|                             6|             365|40.64749|-73.97237|0.0|49.0|0.0|(4,[0],[1.0])|(217,[49],[1.0])|(2,[0],[1.0])|\n",
      "|          Manhattan|      Midtown|Entire home/apt|  225|             1|               45|             0.38|                             2|             355|40.75362|-73.98377|1.0|13.0|1.0|(4,[1],[1.0])|(217,[13],[1.0])|(2,[1],[1.0])|\n",
      "|           Brooklyn| Clinton Hill|Entire home/apt|   89|             1|              270|             4.64|                             1|             194|40.68514|-73.95976|0.0|19.0|1.0|(4,[0],[1.0])|(217,[19],[1.0])|(2,[1],[1.0])|\n",
      "+-------------------+-------------+---------------+-----+--------------+-----------------+-----------------+------------------------------+----------------+--------+---------+---+----+---+-------------+----------------+-------------+\n",
      "only showing top 3 rows\n",
      "\n"
     ]
    }
   ],
   "source": [
    "df3.show(3)"
   ]
  },
  {
   "cell_type": "code",
   "execution_count": 128,
   "metadata": {},
   "outputs": [
    {
     "data": {
      "text/plain": [
       "[('neighbourhood_group', 'string'),\n",
       " ('neighbourhood', 'string'),\n",
       " ('room_type', 'string'),\n",
       " ('price', 'int'),\n",
       " ('minimum_nights', 'int'),\n",
       " ('number_of_reviews', 'int'),\n",
       " ('reviews_per_month', 'float'),\n",
       " ('calculated_host_listings_count', 'int'),\n",
       " ('availability_365', 'int'),\n",
       " ('latitude', 'float'),\n",
       " ('longitude', 'float'),\n",
       " ('ng1', 'double'),\n",
       " ('n1', 'double'),\n",
       " ('rt1', 'double'),\n",
       " ('ngv', 'vector'),\n",
       " ('nv', 'vector'),\n",
       " ('rtv', 'vector')]"
      ]
     },
     "execution_count": 128,
     "metadata": {},
     "output_type": "execute_result"
    }
   ],
   "source": [
    "df3.dtypes"
   ]
  },
  {
   "cell_type": "markdown",
   "metadata": {},
   "source": [
    "## Vectorizing features"
   ]
  },
  {
   "cell_type": "code",
   "execution_count": 129,
   "metadata": {},
   "outputs": [
    {
     "name": "stdout",
     "output_type": "stream",
     "text": [
      "+--------------------+-----+\n",
      "|            features|price|\n",
      "+--------------------+-----+\n",
      "|(230,[0,1,2,3,4,5...|  149|\n",
      "|(230,[0,1,2,3,4,6...|  225|\n",
      "|(230,[0,1,2,3,4,5...|   89|\n",
      "|(230,[0,1,2,3,6,1...|   80|\n",
      "|(230,[0,1,2,3,4,6...|  200|\n",
      "+--------------------+-----+\n",
      "only showing top 5 rows\n",
      "\n"
     ]
    }
   ],
   "source": [
    "va = VectorAssembler(inputCols = \\\n",
    "                     ['minimum_nights', 'number_of_reviews', 'reviews_per_month', \\\n",
    "                      'calculated_host_listings_count', 'availability_365', \\\n",
    "                      'ngv','rtv', 'nv','latitude', 'longitude'], outputCol = 'features')\n",
    "df4 = va.transform(df3)\n",
    "df4 = df4.select(['features', 'price'])\n",
    "df4.show(5)"
   ]
  },
  {
   "cell_type": "code",
   "execution_count": 130,
   "metadata": {},
   "outputs": [],
   "source": [
    "splits = df4.randomSplit([0.7, 0.3])\n",
    "train_df = splits[0]\n",
    "test_df = splits[1]"
   ]
  },
  {
   "cell_type": "markdown",
   "metadata": {},
   "source": [
    "## Linear Regression"
   ]
  },
  {
   "cell_type": "code",
   "execution_count": 131,
   "metadata": {},
   "outputs": [],
   "source": [
    "from pyspark.ml.regression import LinearRegression\n",
    "lr = LinearRegression(featuresCol = 'features', labelCol='price')\n",
    "lr_model = lr.fit(train_df)\n",
    "#print(\"Coefficients: \" + str(lr_model.coefficients))\n",
    "#print(\"Intercept: \" + str(lr_model.intercept))"
   ]
  },
  {
   "cell_type": "code",
   "execution_count": 132,
   "metadata": {},
   "outputs": [
    {
     "name": "stdout",
     "output_type": "stream",
     "text": [
      "Linear Regression RMSE: 36.971942\n",
      "Linear Regression R2: 0.566009\n"
     ]
    }
   ],
   "source": [
    "trainingSummary = lr_model.summary\n",
    "print(\"Linear Regression RMSE: %f\" % trainingSummary.rootMeanSquaredError)\n",
    "print(\"Linear Regression R2: %f\" % trainingSummary.r2)"
   ]
  },
  {
   "cell_type": "code",
   "execution_count": 133,
   "metadata": {
    "scrolled": false
   },
   "outputs": [
    {
     "name": "stdout",
     "output_type": "stream",
     "text": [
      "DataFrame[features: vector, price: int, prediction: double]\n",
      "+-----------------+-----+--------------------+\n",
      "|       prediction|price|            features|\n",
      "+-----------------+-----+--------------------+\n",
      "|  81.606265873761|   80|(230,[0,1,2,3,4,5...|\n",
      "|78.45477234752616|  100|(230,[0,1,2,3,4,5...|\n",
      "|74.62740454451341|  110|(230,[0,1,2,3,4,5...|\n",
      "|66.59965735463993|   99|(230,[0,1,2,3,4,5...|\n",
      "|69.66324051949414|   65|(230,[0,1,2,3,4,5...|\n",
      "+-----------------+-----+--------------------+\n",
      "only showing top 5 rows\n",
      "\n"
     ]
    }
   ],
   "source": [
    "# TEST Results\n",
    "fullPredictions = lr_model.transform(test_df).cache()\n",
    "print(fullPredictions)\n",
    "fullPredictions.select(\"prediction\",\"price\",\"features\").show(5)"
   ]
  },
  {
   "cell_type": "code",
   "execution_count": 134,
   "metadata": {},
   "outputs": [
    {
     "name": "stdout",
     "output_type": "stream",
     "text": [
      "R Squared (R2) on test data = 0.552981\n",
      "RMSE (R2) on test data = 37.8103\n"
     ]
    }
   ],
   "source": [
    "from pyspark.ml.evaluation import RegressionEvaluator\n",
    "lr_evaluator = RegressionEvaluator(predictionCol=\"prediction\", labelCol=\"price\",metricName=\"r2\")\n",
    "print(\"R Squared (R2) on test data = %g\" % lr_evaluator.evaluate(fullPredictions))\n",
    "lr_evaluator = RegressionEvaluator(predictionCol=\"prediction\", labelCol=\"price\",metricName=\"rmse\")\n",
    "print(\"RMSE (R2) on test data = %g\" % lr_evaluator.evaluate(fullPredictions))"
   ]
  },
  {
   "cell_type": "markdown",
   "metadata": {},
   "source": [
    "# Decision Tree Regressor"
   ]
  },
  {
   "cell_type": "code",
   "execution_count": 135,
   "metadata": {},
   "outputs": [
    {
     "name": "stdout",
     "output_type": "stream",
     "text": [
      "R Squared (R2) on test data = 0.540875\n",
      "RMSE on test data = 38.3189\n"
     ]
    }
   ],
   "source": [
    "from pyspark.ml.regression import DecisionTreeRegressor\n",
    "dt = DecisionTreeRegressor(featuresCol = 'features', labelCol='price')\n",
    "dt_model = dt.fit(train_df)\n",
    "dtPrediction = dt_model.transform(test_df)\n",
    "dt_evaluator = RegressionEvaluator(predictionCol=\"prediction\", labelCol=\"price\",metricName=\"r2\")\n",
    "print(\"R Squared (R2) on test data = %g\" % dt_evaluator.evaluate(dtPrediction))\n",
    "dt_evaluator = RegressionEvaluator(predictionCol=\"prediction\", labelCol=\"price\",metricName=\"rmse\")\n",
    "print(\"RMSE on test data = %g\" % dt_evaluator.evaluate(dtPrediction))"
   ]
  },
  {
   "cell_type": "code",
   "execution_count": 136,
   "metadata": {},
   "outputs": [
    {
     "name": "stdout",
     "output_type": "stream",
     "text": [
      "+--------------------+-----+------------------+\n",
      "|            features|price|        prediction|\n",
      "+--------------------+-----+------------------+\n",
      "|(230,[0,1,2,3,4,5...|   80| 64.44272445820434|\n",
      "|(230,[0,1,2,3,4,5...|  100| 64.44272445820434|\n",
      "|(230,[0,1,2,3,4,5...|  110|60.027386333421966|\n",
      "|(230,[0,1,2,3,4,5...|   99|60.027386333421966|\n",
      "|(230,[0,1,2,3,4,5...|   65| 64.44272445820434|\n",
      "+--------------------+-----+------------------+\n",
      "only showing top 5 rows\n",
      "\n"
     ]
    }
   ],
   "source": [
    "dtPrediction.show(5)"
   ]
  },
  {
   "cell_type": "markdown",
   "metadata": {},
   "source": [
    "# Gradiant Boosted Tree Regression"
   ]
  },
  {
   "cell_type": "code",
   "execution_count": 137,
   "metadata": {},
   "outputs": [
    {
     "name": "stdout",
     "output_type": "stream",
     "text": [
      "R Squared (R2) on test data = 0.574128\n",
      "RMSE on test data = 36.9051\n"
     ]
    }
   ],
   "source": [
    "from pyspark.ml.regression import GBTRegressor\n",
    "gb = GBTRegressor(featuresCol = 'features', labelCol='price')\n",
    "gb_model = gb.fit(train_df)\n",
    "gbPredictions = gb_model.transform(test_df)\n",
    "gb_evaluator = RegressionEvaluator(predictionCol=\"prediction\", labelCol=\"price\",metricName=\"r2\")\n",
    "print(\"R Squared (R2) on test data = %g\" % gb_evaluator.evaluate(gbPredictions))\n",
    "gb_evaluator = RegressionEvaluator(predictionCol=\"prediction\", labelCol=\"price\",metricName=\"rmse\")\n",
    "print(\"RMSE on test data = %g\" % gb_evaluator.evaluate(gbPredictions))"
   ]
  },
  {
   "cell_type": "code",
   "execution_count": 138,
   "metadata": {},
   "outputs": [
    {
     "name": "stdout",
     "output_type": "stream",
     "text": [
      "+--------------------+-----+-----------------+\n",
      "|            features|price|       prediction|\n",
      "+--------------------+-----+-----------------+\n",
      "|(230,[0,1,2,3,4,5...|   80|75.99084275229757|\n",
      "|(230,[0,1,2,3,4,5...|  100|78.06530814702504|\n",
      "|(230,[0,1,2,3,4,5...|  110|72.90774273443479|\n",
      "|(230,[0,1,2,3,4,5...|   99| 70.9711636667254|\n",
      "|(230,[0,1,2,3,4,5...|   65|83.20356079754676|\n",
      "+--------------------+-----+-----------------+\n",
      "only showing top 5 rows\n",
      "\n"
     ]
    }
   ],
   "source": [
    "gbPredictions.show(5)"
   ]
  },
  {
   "cell_type": "markdown",
   "metadata": {},
   "source": [
    "# Random Forest Regressor"
   ]
  },
  {
   "cell_type": "code",
   "execution_count": 139,
   "metadata": {},
   "outputs": [
    {
     "name": "stdout",
     "output_type": "stream",
     "text": [
      "R Squared (R2) on test data = 0.543257\n",
      "RMSE on test data = 38.2193\n"
     ]
    }
   ],
   "source": [
    "from pyspark.ml.regression import RandomForestRegressor\n",
    "rf = RandomForestRegressor(featuresCol = 'features', labelCol='price')\n",
    "rf_model = rf.fit(train_df)\n",
    "rfPredictions = rf_model.transform(test_df)\n",
    "rf_evaluator = RegressionEvaluator(predictionCol=\"prediction\", labelCol=\"price\",metricName=\"r2\")\n",
    "print(\"R Squared (R2) on test data = %g\" % rf_evaluator.evaluate(rfPredictions))\n",
    "rf_evaluator = RegressionEvaluator(predictionCol=\"prediction\", labelCol=\"price\",metricName=\"rmse\")\n",
    "print(\"RMSE on test data = %g\" % rf_evaluator.evaluate(rfPredictions))"
   ]
  },
  {
   "cell_type": "code",
   "execution_count": 140,
   "metadata": {},
   "outputs": [
    {
     "name": "stdout",
     "output_type": "stream",
     "text": [
      "+--------------------+-----+-----------------+\n",
      "|            features|price|       prediction|\n",
      "+--------------------+-----+-----------------+\n",
      "|(230,[0,1,2,3,4,5...|   80|69.63637301508058|\n",
      "|(230,[0,1,2,3,4,5...|  100|68.82653986271585|\n",
      "|(230,[0,1,2,3,4,5...|  110|63.65623787225847|\n",
      "|(230,[0,1,2,3,4,5...|   99|64.33962521455275|\n",
      "|(230,[0,1,2,3,4,5...|   65|68.23344498150145|\n",
      "+--------------------+-----+-----------------+\n",
      "only showing top 5 rows\n",
      "\n"
     ]
    }
   ],
   "source": [
    "rfPredictions.show(5)"
   ]
  },
  {
   "cell_type": "code",
   "execution_count": null,
   "metadata": {},
   "outputs": [],
   "source": []
  }
 ],
 "metadata": {
  "kernelspec": {
   "display_name": "Python 3",
   "language": "python",
   "name": "python3"
  },
  "language_info": {
   "codemirror_mode": {
    "name": "ipython",
    "version": 3
   },
   "file_extension": ".py",
   "mimetype": "text/x-python",
   "name": "python",
   "nbconvert_exporter": "python",
   "pygments_lexer": "ipython3",
   "version": "3.8.5"
  }
 },
 "nbformat": 4,
 "nbformat_minor": 4
}
